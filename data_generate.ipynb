{
 "cells": [
  {
   "cell_type": "code",
   "execution_count": 2,
   "metadata": {},
   "outputs": [],
   "source": [
    "import numpy as np\n",
    "import pandas as pd\n",
    "import warnings\n",
    "warnings.filterwarnings(action='ignore')"
   ]
  },
  {
   "cell_type": "code",
   "execution_count": 3,
   "metadata": {},
   "outputs": [],
   "source": [
    "train_df = pd.read_csv(\".\\\\dataset\\\\train_data.csv\")\n",
    "test_df = pd.read_csv(\".\\\\dataset\\\\test_data.csv\")\n",
    "\n",
    "df_lst = []\n",
    "for i in range(8):\n",
    "  df_lst.append(train_df[train_df.type == i])"
   ]
  },
  {
   "cell_type": "code",
   "execution_count": 4,
   "metadata": {},
   "outputs": [
    {
     "name": "stdout",
     "output_type": "stream",
     "text": [
      "type 0 : 432\n",
      "type 1 : 369\n",
      "type 2 : 366\n",
      "type 3 : 306\n",
      "type 4 : 306\n",
      "type 5 : 249\n",
      "type 6 : 249\n",
      "type 7 : 186\n"
     ]
    }
   ],
   "source": [
    "for idx, df in enumerate(df_lst):\n",
    "  print(f\"type {idx} : {len(df)}\")"
   ]
  },
  {
   "cell_type": "code",
   "execution_count": 5,
   "metadata": {},
   "outputs": [],
   "source": [
    "# train_0 = train_df[train_df.type == 0]\n",
    "# train_1 = train_df[train_df.type == 1]\n",
    "# train_2 = train_df[train_df.type == 2]\n",
    "# train_3 = train_df[train_df.type == 3]\n",
    "# train_4 = train_df[train_df.type == 4]\n",
    "train_5 = train_df[train_df.type == 5]\n",
    "train_6 = train_df[train_df.type == 6]\n",
    "train_7 = train_df[train_df.type == 7]\n",
    "\n",
    "# train_0 = train_0.drop(columns=[\"out_pressure\", \"type\"])\n",
    "# train_1 = train_1.drop(columns=[\"out_pressure\", \"type\"])\n",
    "# train_2 = train_2.drop(columns=[\"out_pressure\", \"type\"])\n",
    "# train_3 = train_3.drop(columns=[\"out_pressure\", \"type\"])\n",
    "# train_4 = train_4.drop(columns=[\"out_pressure\", \"type\"])\n",
    "train_5 = train_5.drop(columns=[\"out_pressure\", \"type\"])\n",
    "train_6 = train_6.drop(columns=[\"out_pressure\", \"type\"])\n",
    "train_7 = train_7.drop(columns=[\"out_pressure\", \"type\"])"
   ]
  },
  {
   "cell_type": "code",
   "execution_count": 6,
   "metadata": {},
   "outputs": [],
   "source": [
    "# type 1에 비정상 처럼 보이는 부분도 샘플링 할 것\n",
    "# train_1_1 = train_1[train_1.motor_vibe > 10]\n",
    "# train_1_2 = train_1[train_1.motor_vibe < 10]"
   ]
  },
  {
   "cell_type": "code",
   "execution_count": 7,
   "metadata": {},
   "outputs": [],
   "source": [
    "# print(len(train_1_1))\n",
    "# print(len(train_1_2))"
   ]
  },
  {
   "cell_type": "code",
   "execution_count": 8,
   "metadata": {},
   "outputs": [],
   "source": [
    "def generator_data(df: pd.DataFrame, _type: int, num: int):\n",
    "  mu = df.mean()\n",
    "  cov = df.corr()\n",
    "  L = np.linalg.cholesky(cov)\n",
    "  tmp_df = pd.DataFrame(columns=df.columns)\n",
    "  for _ in range(num):\n",
    "    while True:\n",
    "      Z = np.random.normal(size=6)\n",
    "      X = mu + np.dot(L, Z)\n",
    "      if (X <= 0).sum() == 0:\n",
    "        tmp_df.loc[len(tmp_df)] = X\n",
    "        break\n",
    "  df = pd.concat([df, tmp_df], ignore_index=True)\n",
    "  df[\"out_pressure\"] = [0.7 for _ in range(len(df))]\n",
    "  df[\"type\"] = [_type for _ in range(len(df))]\n",
    "  return df"
   ]
  },
  {
   "cell_type": "code",
   "execution_count": 9,
   "metadata": {},
   "outputs": [
    {
     "data": {
      "text/plain": [
       "8873"
      ]
     },
     "execution_count": 9,
     "metadata": {},
     "output_type": "execute_result"
    }
   ],
   "source": [
    "# train_0 = generator_data(train_0, 0, 70)\n",
    "# train_1_1 = generator_data(train_1_1, 1, 50)\n",
    "# train_1_2 = generator_data(train_1_2, 1, 80)\n",
    "# train_2 = generator_data(train_2, 2, 130)\n",
    "# train_3 = generator_data(train_3, 3, 200)\n",
    "# train_4 = generator_data(train_4, 4, 200)\n",
    "train_5 = generator_data(train_5, 5, 200)\n",
    "train_6 = generator_data(train_6, 6, 200)\n",
    "train_7 = generator_data(train_7, 7, 400)\n",
    "\n",
    "df = pd.concat([test_df, train_5, train_6, train_7])\n",
    "len(df)"
   ]
  },
  {
   "cell_type": "code",
   "execution_count": 10,
   "metadata": {},
   "outputs": [
    {
     "data": {
      "text/html": [
       "<div>\n",
       "<style scoped>\n",
       "    .dataframe tbody tr th:only-of-type {\n",
       "        vertical-align: middle;\n",
       "    }\n",
       "\n",
       "    .dataframe tbody tr th {\n",
       "        vertical-align: top;\n",
       "    }\n",
       "\n",
       "    .dataframe thead th {\n",
       "        text-align: right;\n",
       "    }\n",
       "</style>\n",
       "<table border=\"1\" class=\"dataframe\">\n",
       "  <thead>\n",
       "    <tr style=\"text-align: right;\">\n",
       "      <th></th>\n",
       "      <th>air_inflow</th>\n",
       "      <th>air_end_temp</th>\n",
       "      <th>out_pressure</th>\n",
       "      <th>motor_current</th>\n",
       "      <th>motor_rpm</th>\n",
       "      <th>motor_temp</th>\n",
       "      <th>motor_vibe</th>\n",
       "      <th>type</th>\n",
       "    </tr>\n",
       "  </thead>\n",
       "  <tbody>\n",
       "    <tr>\n",
       "      <th>0</th>\n",
       "      <td>2.51</td>\n",
       "      <td>53.28</td>\n",
       "      <td>0.7</td>\n",
       "      <td>32.54</td>\n",
       "      <td>2662.0</td>\n",
       "      <td>69.58</td>\n",
       "      <td>3.48</td>\n",
       "      <td>0</td>\n",
       "    </tr>\n",
       "    <tr>\n",
       "      <th>1</th>\n",
       "      <td>2.66</td>\n",
       "      <td>55.24</td>\n",
       "      <td>0.7</td>\n",
       "      <td>34.45</td>\n",
       "      <td>2819.0</td>\n",
       "      <td>71.32</td>\n",
       "      <td>3.57</td>\n",
       "      <td>0</td>\n",
       "    </tr>\n",
       "    <tr>\n",
       "      <th>2</th>\n",
       "      <td>1.72</td>\n",
       "      <td>42.74</td>\n",
       "      <td>0.7</td>\n",
       "      <td>22.23</td>\n",
       "      <td>1819.0</td>\n",
       "      <td>60.21</td>\n",
       "      <td>3.01</td>\n",
       "      <td>0</td>\n",
       "    </tr>\n",
       "    <tr>\n",
       "      <th>3</th>\n",
       "      <td>2.20</td>\n",
       "      <td>49.15</td>\n",
       "      <td>0.7</td>\n",
       "      <td>28.50</td>\n",
       "      <td>2332.0</td>\n",
       "      <td>65.91</td>\n",
       "      <td>3.30</td>\n",
       "      <td>0</td>\n",
       "    </tr>\n",
       "    <tr>\n",
       "      <th>4</th>\n",
       "      <td>2.06</td>\n",
       "      <td>47.28</td>\n",
       "      <td>0.7</td>\n",
       "      <td>26.67</td>\n",
       "      <td>2182.0</td>\n",
       "      <td>64.24</td>\n",
       "      <td>3.21</td>\n",
       "      <td>0</td>\n",
       "    </tr>\n",
       "  </tbody>\n",
       "</table>\n",
       "</div>"
      ],
      "text/plain": [
       "   air_inflow  air_end_temp  out_pressure  motor_current  motor_rpm   \n",
       "0        2.51         53.28           0.7          32.54     2662.0  \\\n",
       "1        2.66         55.24           0.7          34.45     2819.0   \n",
       "2        1.72         42.74           0.7          22.23     1819.0   \n",
       "3        2.20         49.15           0.7          28.50     2332.0   \n",
       "4        2.06         47.28           0.7          26.67     2182.0   \n",
       "\n",
       "   motor_temp  motor_vibe  type  \n",
       "0       69.58        3.48     0  \n",
       "1       71.32        3.57     0  \n",
       "2       60.21        3.01     0  \n",
       "3       65.91        3.30     0  \n",
       "4       64.24        3.21     0  "
      ]
     },
     "execution_count": 10,
     "metadata": {},
     "output_type": "execute_result"
    }
   ],
   "source": [
    "df.insert(2, \"out_pressure\", df.pop(\"out_pressure\"))\n",
    "df.head()"
   ]
  },
  {
   "cell_type": "code",
   "execution_count": 11,
   "metadata": {},
   "outputs": [],
   "source": [
    "df.to_csv(\"test_ratio_fit.csv\", index=False)"
   ]
  },
  {
   "cell_type": "code",
   "execution_count": 4,
   "metadata": {},
   "outputs": [
    {
     "data": {
      "text/plain": [
       "7389"
      ]
     },
     "execution_count": 4,
     "metadata": {},
     "output_type": "execute_result"
    }
   ],
   "source": [
    "len(test_df)"
   ]
  },
  {
   "cell_type": "code",
   "execution_count": null,
   "metadata": {},
   "outputs": [],
   "source": []
  }
 ],
 "metadata": {
  "kernelspec": {
   "display_name": "aifactory-cLCMmIYn",
   "language": "python",
   "name": "python3"
  },
  "language_info": {
   "codemirror_mode": {
    "name": "ipython",
    "version": 3
   },
   "file_extension": ".py",
   "mimetype": "text/x-python",
   "name": "python",
   "nbconvert_exporter": "python",
   "pygments_lexer": "ipython3",
   "version": "3.10.6"
  },
  "orig_nbformat": 4
 },
 "nbformat": 4,
 "nbformat_minor": 2
}
